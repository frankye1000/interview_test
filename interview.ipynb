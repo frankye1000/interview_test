{
 "cells": [
  {
   "cell_type": "code",
   "execution_count": 3,
   "metadata": {},
   "outputs": [],
   "source": [
    "def findnumber(inpute, k):\n",
    "    l = list(set(input))\n",
    "    if k in l:\n",
    "        return \"YES\"\n",
    "    else:\n",
    "        return \"NO\""
   ]
  },
  {
   "cell_type": "code",
   "execution_count": 4,
   "metadata": {},
   "outputs": [
    {
     "data": {
      "text/plain": [
       "'YES'"
      ]
     },
     "execution_count": 4,
     "metadata": {},
     "output_type": "execute_result"
    }
   ],
   "source": [
    "input = [5,2,3,1,4,5]\n",
    "k=1\n",
    "\n",
    "findnumber(input,k)"
   ]
  },
  {
   "cell_type": "code",
   "execution_count": null,
   "metadata": {},
   "outputs": [],
   "source": []
  },
  {
   "cell_type": "code",
   "execution_count": null,
   "metadata": {},
   "outputs": [],
   "source": []
  },
  {
   "cell_type": "code",
   "execution_count": 23,
   "metadata": {},
   "outputs": [],
   "source": [
    "def numberOfPaths(matrix):\n",
    "    m=len(matrix)\n",
    "    n=len(matrix[0])\n",
    "\n",
    "    for l in range(n):\n",
    "        if matrix[0][l] == 0:\n",
    "            for k in range(l+1,n):\n",
    "                matrix[0][k]=0\n",
    "\n",
    "    for l in range(m):\n",
    "        if matrix[l][0] == 0:\n",
    "            for k in range(l+1,m):\n",
    "                matrix[k][0]=0\n",
    "\n",
    "    for i in range(1,m):\n",
    "        for j in range(1,n):\n",
    "            if matrix[i][j] != 0:\n",
    "                matrix[i][j] = matrix[i-1][j]+matrix[i][j-1]\n",
    "                \n",
    "    return matrix[m-1][n-1]"
   ]
  },
  {
   "cell_type": "code",
   "execution_count": 20,
   "metadata": {},
   "outputs": [
    {
     "name": "stdout",
     "output_type": "stream",
     "text": [
      "0\n"
     ]
    }
   ],
   "source": [
    "matrix=[\n",
    "   [1,0,1,1],\n",
    "   [0,1,1,1],\n",
    "   [1,1,1,1]\n",
    "  ]\n",
    "\n",
    "\n",
    "m=len(matrix)\n",
    "n=len(matrix[0])\n",
    "\n",
    "for l in range(n):\n",
    "    if matrix[0][l] == 0:\n",
    "        for k in range(l+1,n):\n",
    "            matrix[0][k]=0\n",
    "            \n",
    "for l in range(m):\n",
    "    if matrix[l][0] == 0:\n",
    "        for k in range(l+1,m):\n",
    "            matrix[k][0]=0\n",
    "\n",
    "for i in range(1,m):\n",
    "    for j in range(1,n):\n",
    "        \n",
    "        \n",
    "        \n",
    "        if matrix[i][j] != 0:\n",
    "            matrix[i][j] = matrix[i-1][j]+matrix[i][j-1]\n",
    "            \n",
    "print(matrix[m-1][n-1])            "
   ]
  },
  {
   "cell_type": "code",
   "execution_count": 33,
   "metadata": {},
   "outputs": [
    {
     "data": {
      "text/plain": [
       "0"
      ]
     },
     "execution_count": 33,
     "metadata": {},
     "output_type": "execute_result"
    }
   ],
   "source": [
    "matrix=[\n",
    "   [0,0,0,0],\n",
    "   [0,0,0,0],\n",
    "   [0,0,0,0]\n",
    "  ]\n",
    "numberOfPaths(matrix)"
   ]
  },
  {
   "cell_type": "code",
   "execution_count": null,
   "metadata": {},
   "outputs": [],
   "source": []
  },
  {
   "cell_type": "code",
   "execution_count": null,
   "metadata": {},
   "outputs": [],
   "source": []
  },
  {
   "cell_type": "code",
   "execution_count": 34,
   "metadata": {},
   "outputs": [],
   "source": [
    "import sys\n",
    "import os\n",
    "from urllib.request import Request\n",
    "from urllib.request import urlopen\n",
    "from urllib.error import URLError\n",
    "import json"
   ]
  },
  {
   "cell_type": "code",
   "execution_count": 87,
   "metadata": {},
   "outputs": [],
   "source": [
    "def getMovieTitles(Title):\n",
    "    # 第一步 先找到總共幾頁\n",
    "    url = 'https://jsonmock.hackerrank.com/api/movies/search/?Title=%s'%Title\n",
    "    resp = urlopen(url) #開啟網頁\n",
    "    respData = resp.read().decode('utf-8')\n",
    "    total_pages = json.loads(respData)['total_pages']\n",
    "\n",
    "    \n",
    "    # 第二步 爬取資料\n",
    "    titles=[]\n",
    "    for page in range(1,total_pages+1):\n",
    "        urls = 'https://jsonmock.hackerrank.com/api/movies/search/?Title=%s&page=%s'%(Title,page)\n",
    "        resp = urlopen(urls) #開啟網頁\n",
    "        respData = resp.read().decode('utf-8')\n",
    "\n",
    "        data = json.loads(respData)['data']\n",
    "        for i in range(len(data)):\n",
    "            titles.append(data[i][\"Title\"])\n",
    "    titles=sorted(titles)\n",
    "    return titles"
   ]
  },
  {
   "cell_type": "code",
   "execution_count": 88,
   "metadata": {},
   "outputs": [
    {
     "data": {
      "text/plain": [
       "['Amazing Spiderman Syndrome',\n",
       " 'Fighting, Flying and Driving: The Stunts of Spiderman 3',\n",
       " \"Hollywood's Master Storytellers: Spiderman Live\",\n",
       " 'Italian Spiderman',\n",
       " 'Spiderman',\n",
       " 'Spiderman',\n",
       " 'Spiderman 5',\n",
       " 'Spiderman and Grandma',\n",
       " 'Spiderman in Cannes',\n",
       " 'Superman, Spiderman or Batman',\n",
       " 'The Amazing Spiderman T4 Premiere Special',\n",
       " 'The Death of Spiderman',\n",
       " 'They Call Me Spiderman']"
      ]
     },
     "execution_count": 88,
     "metadata": {},
     "output_type": "execute_result"
    }
   ],
   "source": [
    "Title=\"spiderman\"\n",
    "getMovieTitles(Title)"
   ]
  },
  {
   "cell_type": "code",
   "execution_count": null,
   "metadata": {},
   "outputs": [],
   "source": []
  }
 ],
 "metadata": {
  "kernelspec": {
   "display_name": "Python 3",
   "language": "python",
   "name": "python3"
  },
  "language_info": {
   "codemirror_mode": {
    "name": "ipython",
    "version": 3
   },
   "file_extension": ".py",
   "mimetype": "text/x-python",
   "name": "python",
   "nbconvert_exporter": "python",
   "pygments_lexer": "ipython3",
   "version": "3.6.5"
  }
 },
 "nbformat": 4,
 "nbformat_minor": 2
}
