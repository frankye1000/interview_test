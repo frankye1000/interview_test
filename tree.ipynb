{
 "cells": [
  {
   "cell_type": "markdown",
   "metadata": {},
   "source": [
    "<img src=\"3.0.jpg\" style=\"width:800px;height:800px;float:left\">\n",
    "<img src=\"3.1.jpg\" style=\"width:600px;height:600px;float:left\">\n",
    "<img src=\"3.2.jpg\" style=\"width:600px;height:600px;float:left\">"
   ]
  },
  {
   "cell_type": "code",
   "execution_count": 1,
   "metadata": {},
   "outputs": [],
   "source": [
    "##和首都距離是[1,2,3,4,5,6,7,8,9]的城市有幾個"
   ]
  },
  {
   "cell_type": "code",
   "execution_count": 1,
   "metadata": {},
   "outputs": [],
   "source": [
    "import numpy as np\n",
    "\n",
    "T=np.array([9,1,4,9,0,4,8,9,0,1])"
   ]
  },
  {
   "cell_type": "code",
   "execution_count": 10,
   "metadata": {},
   "outputs": [
    {
     "data": {
      "text/plain": [
       "[(9, 0),\n",
       " (1, 1),\n",
       " (4, 2),\n",
       " (9, 3),\n",
       " (0, 4),\n",
       " (4, 5),\n",
       " (8, 6),\n",
       " (9, 7),\n",
       " (0, 8),\n",
       " (1, 9)]"
      ]
     },
     "execution_count": 10,
     "metadata": {},
     "output_type": "execute_result"
    }
   ],
   "source": [
    "indexs = [i for i in range(0,len(T))]\n",
    "tree = list(zip(list(T),indexs))\n",
    "tree"
   ]
  },
  {
   "cell_type": "code",
   "execution_count": 13,
   "metadata": {},
   "outputs": [],
   "source": [
    "path=[]\n",
    "head = 0\n",
    "for i in tree:\n",
    "    if i[0] == i[1]:\n",
    "        head += i[0]\n",
    "\n",
    "    if  i[0] == head and i[1] != head:\n",
    "        path.append(list(i))\n"
   ]
  },
  {
   "cell_type": "code",
   "execution_count": 14,
   "metadata": {},
   "outputs": [
    {
     "data": {
      "text/plain": [
       "[[1, 9]]"
      ]
     },
     "execution_count": 14,
     "metadata": {},
     "output_type": "execute_result"
    }
   ],
   "source": [
    "path"
   ]
  },
  {
   "cell_type": "code",
   "execution_count": 15,
   "metadata": {},
   "outputs": [],
   "source": [
    "for j in path:\n",
    "    for i in tree: \n",
    "        if j[-1] == i[0] :\n",
    "            path.append(j+[i[1]])"
   ]
  },
  {
   "cell_type": "code",
   "execution_count": 16,
   "metadata": {},
   "outputs": [
    {
     "data": {
      "text/plain": [
       "[[1, 9],\n",
       " [1, 9, 0],\n",
       " [1, 9, 3],\n",
       " [1, 9, 7],\n",
       " [1, 9, 0, 4],\n",
       " [1, 9, 0, 8],\n",
       " [1, 9, 0, 4, 2],\n",
       " [1, 9, 0, 4, 5],\n",
       " [1, 9, 0, 8, 6]]"
      ]
     },
     "execution_count": 16,
     "metadata": {},
     "output_type": "execute_result"
    }
   ],
   "source": [
    "path"
   ]
  },
  {
   "cell_type": "code",
   "execution_count": 17,
   "metadata": {},
   "outputs": [],
   "source": [
    "x=[]\n",
    "for j in range(1,len(T)):\n",
    "    c=0\n",
    "    for i in path:\n",
    "        if len(i) == j+1:\n",
    "            c+=1\n",
    "    x.append(c)\n",
    "        "
   ]
  },
  {
   "cell_type": "code",
   "execution_count": 18,
   "metadata": {},
   "outputs": [
    {
     "data": {
      "text/plain": [
       "[1, 3, 2, 3, 0, 0, 0, 0, 0]"
      ]
     },
     "execution_count": 18,
     "metadata": {},
     "output_type": "execute_result"
    }
   ],
   "source": [
    "x"
   ]
  },
  {
   "cell_type": "markdown",
   "metadata": {},
   "source": [
    "## answer ↓"
   ]
  },
  {
   "cell_type": "code",
   "execution_count": 19,
   "metadata": {},
   "outputs": [],
   "source": [
    "def solution(T):\n",
    "    indexs = [i for i in range(0,len(T))]\n",
    "    tree = list(zip(list(T),indexs))\n",
    "    path=[]\n",
    "    head = 0\n",
    "    for i in tree:\n",
    "        if i[0] == i[1]:\n",
    "            head += i[0]\n",
    "        if  i[0] == head and i[1] != head:\n",
    "            path.append(list(i))\n",
    "    for j in path:\n",
    "        for i in tree: \n",
    "            if j[-1] == i[0] :\n",
    "                path.append(j+[i[1]])\n",
    "    x=[]\n",
    "    for j in range(1,len(T)):\n",
    "        c=0\n",
    "        for i in path:\n",
    "            if len(i) == j+1:\n",
    "                c+=1\n",
    "        x.append(c)\n",
    "    return x"
   ]
  },
  {
   "cell_type": "code",
   "execution_count": 20,
   "metadata": {},
   "outputs": [
    {
     "data": {
      "text/plain": [
       "[1, 3, 2, 3, 0, 0, 0, 0, 0]"
      ]
     },
     "execution_count": 20,
     "metadata": {},
     "output_type": "execute_result"
    }
   ],
   "source": [
    "solution(T)"
   ]
  },
  {
   "cell_type": "code",
   "execution_count": null,
   "metadata": {},
   "outputs": [],
   "source": []
  },
  {
   "cell_type": "code",
   "execution_count": null,
   "metadata": {},
   "outputs": [],
   "source": []
  },
  {
   "cell_type": "code",
   "execution_count": null,
   "metadata": {},
   "outputs": [],
   "source": []
  }
 ],
 "metadata": {
  "kernelspec": {
   "display_name": "Python 3",
   "language": "python",
   "name": "python3"
  },
  "language_info": {
   "codemirror_mode": {
    "name": "ipython",
    "version": 3
   },
   "file_extension": ".py",
   "mimetype": "text/x-python",
   "name": "python",
   "nbconvert_exporter": "python",
   "pygments_lexer": "ipython3",
   "version": "3.6.1"
  }
 },
 "nbformat": 4,
 "nbformat_minor": 2
}
