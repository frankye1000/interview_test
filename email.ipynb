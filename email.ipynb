{
 "cells": [
  {
   "cell_type": "code",
   "execution_count": 226,
   "metadata": {},
   "outputs": [],
   "source": [
    "S=\"\"\"John Doe, Peter Benjamin Parker, Mary Jane Watson-Parker, John Elvis Doe, John Evan Doe, Jane Doe, Peter Brian Parker\"\"\"\n",
    "s = S.split(\",\")\n",
    "ss = [j.strip(\" \") for j in s]\n",
    "s1 = [i.strip(\" \").lower().replace(\"-\",\"\").split(\" \") for i in s]"
   ]
  },
  {
   "cell_type": "code",
   "execution_count": 237,
   "metadata": {
    "scrolled": true
   },
   "outputs": [
    {
     "data": {
      "text/plain": [
       "[['john', 'doe'],\n",
       " ['peter', 'benjamin', 'parker'],\n",
       " ['mary', 'jane', 'watsonparker'],\n",
       " ['john', 'elvis', 'doe'],\n",
       " ['john', 'evan', 'doe'],\n",
       " ['jane', 'doe'],\n",
       " ['peter', 'brian', 'parker']]"
      ]
     },
     "execution_count": 237,
     "metadata": {},
     "output_type": "execute_result"
    }
   ],
   "source": [
    "s1"
   ]
  },
  {
   "cell_type": "code",
   "execution_count": 246,
   "metadata": {},
   "outputs": [
    {
     "data": {
      "text/plain": [
       "{'Jane Doe': ['jane', 'doe'],\n",
       " 'John Doe': ['john', 'doe'],\n",
       " 'John Elvis Doe': ['john', 'elvis', 'doe'],\n",
       " 'John Evan Doe': ['john', 'evan', 'doe'],\n",
       " 'Mary Jane Watson-Parker': ['mary', 'jane', 'watsonparker'],\n",
       " 'Peter Benjamin Parker': ['peter', 'benjamin', 'parker'],\n",
       " 'Peter Brian Parker': ['peter', 'brian', 'parker']}"
      ]
     },
     "execution_count": 246,
     "metadata": {},
     "output_type": "execute_result"
    }
   ],
   "source": [
    "name_dict = dict(zip(ss,s1))\n",
    "name_dict"
   ]
  },
  {
   "cell_type": "code",
   "execution_count": 104,
   "metadata": {},
   "outputs": [
    {
     "data": {
      "text/plain": [
       "'example'"
      ]
     },
     "execution_count": 104,
     "metadata": {},
     "output_type": "execute_result"
    }
   ],
   "source": [
    "C=\"Example\"\n",
    "c=C.lower()\n",
    "c"
   ]
  },
  {
   "cell_type": "code",
   "execution_count": 284,
   "metadata": {},
   "outputs": [
    {
     "name": "stdout",
     "output_type": "stream",
     "text": [
      "[('J', 'johndoe', 1)]\n",
      "[('P', 'johndoe', 1), ('e', 'peterparker', 1)]\n",
      "[('M', 'johndoe', 1), ('a', 'peterparker', 1), ('r', 'marywatsonparker', 1)]\n",
      "[('J', 'johndoe', 2), ('o', 'peterparker', 1), ('h', 'marywatsonparker', 1)]\n",
      "[('J', 'johndoe', 3), ('o', 'peterparker', 1), ('h', 'marywatsonparker', 1)]\n",
      "[('J', 'johndoe', 3), ('a', 'peterparker', 1), ('n', 'marywatsonparker', 1), ('e', 'janedoe', 1)]\n",
      "[('P', 'johndoe', 3), ('e', 'peterparker', 2), ('t', 'marywatsonparker', 1), ('e', 'janedoe', 1)]\n"
     ]
    }
   ],
   "source": [
    "import pprint\n",
    "email_list=[]\n",
    "email_dict={}\n",
    "for l in name_dict:\n",
    "    i = name_dict[l]\n",
    "    if i[0]+i[-1] not in email_dict:\n",
    "        email_dict[i[0]+i[-1]] = 1\n",
    "    else:\n",
    "        email_dict[i[0]+i[-1]] += 1\n",
    "    e = zip(l,list(email_dict.keys()),list(email_dict.values()))\n",
    "    print(list(e))\n"
   ]
  },
  {
   "cell_type": "code",
   "execution_count": 281,
   "metadata": {},
   "outputs": [
    {
     "name": "stdout",
     "output_type": "stream",
     "text": [
      "John Doe\n",
      "Peter Benjamin Parker\n",
      "Mary Jane Watson-Parker\n",
      "John Elvis Doe\n",
      "John Evan Doe\n",
      "Jane Doe\n",
      "Peter Brian Parker\n"
     ]
    }
   ],
   "source": [
    "for l in name_dict:\n",
    "    print(l)"
   ]
  },
  {
   "cell_type": "code",
   "execution_count": 256,
   "metadata": {},
   "outputs": [
    {
     "name": "stdout",
     "output_type": "stream",
     "text": [
      "peterparker2@example.com\n",
      "peterparker@example.com\n",
      "johndoe3@example.com\n",
      "johndoe2@example.com\n",
      "janedoe@example.com\n",
      "johndoe@example.com\n",
      "marywatsonparker@example.com\n"
     ]
    }
   ],
   "source": [
    "for i in set(email_list):\n",
    "    if i[1]==1:\n",
    "        print(i[0]+\"@\"+c+\".com\")\n",
    "    else:\n",
    "        print(i[0]+str(i[1])+\"@\"+c+\".com\")"
   ]
  },
  {
   "cell_type": "code",
   "execution_count": null,
   "metadata": {
    "scrolled": true
   },
   "outputs": [],
   "source": []
  },
  {
   "cell_type": "code",
   "execution_count": null,
   "metadata": {},
   "outputs": [],
   "source": []
  },
  {
   "cell_type": "code",
   "execution_count": null,
   "metadata": {},
   "outputs": [],
   "source": [
    "marywatsonpa"
   ]
  },
  {
   "cell_type": "code",
   "execution_count": null,
   "metadata": {},
   "outputs": [],
   "source": []
  },
  {
   "cell_type": "code",
   "execution_count": null,
   "metadata": {},
   "outputs": [],
   "source": []
  },
  {
   "cell_type": "code",
   "execution_count": null,
   "metadata": {},
   "outputs": [],
   "source": []
  },
  {
   "cell_type": "code",
   "execution_count": 254,
   "metadata": {},
   "outputs": [
    {
     "name": "stdout",
     "output_type": "stream",
     "text": [
      "['john', 'doe']\n",
      "['peter', 'benjamin', 'parker']\n",
      "['mary', 'jane', 'watsonparker']\n",
      "['john', 'elvis', 'doe']\n",
      "['john', 'evan', 'doe']\n",
      "['jane', 'doe']\n",
      "['peter', 'brian', 'parker']\n"
     ]
    }
   ],
   "source": [
    "for i in name_dict:\n",
    "    print(name_dict[i])"
   ]
  },
  {
   "cell_type": "code",
   "execution_count": null,
   "metadata": {},
   "outputs": [],
   "source": []
  },
  {
   "cell_type": "code",
   "execution_count": null,
   "metadata": {},
   "outputs": [],
   "source": []
  },
  {
   "cell_type": "code",
   "execution_count": null,
   "metadata": {},
   "outputs": [],
   "source": []
  },
  {
   "cell_type": "code",
   "execution_count": null,
   "metadata": {},
   "outputs": [],
   "source": []
  },
  {
   "cell_type": "code",
   "execution_count": null,
   "metadata": {},
   "outputs": [],
   "source": []
  },
  {
   "cell_type": "code",
   "execution_count": 79,
   "metadata": {},
   "outputs": [
    {
     "ename": "SyntaxError",
     "evalue": "invalid syntax (<ipython-input-79-1b33fc1e778a>, line 1)",
     "output_type": "error",
     "traceback": [
      "\u001b[1;36m  File \u001b[1;32m\"<ipython-input-79-1b33fc1e778a>\"\u001b[1;36m, line \u001b[1;32m1\u001b[0m\n\u001b[1;33m    John Doe <johndoe@example.com>,\u001b[0m\n\u001b[1;37m           ^\u001b[0m\n\u001b[1;31mSyntaxError\u001b[0m\u001b[1;31m:\u001b[0m invalid syntax\n"
     ]
    }
   ],
   "source": [
    "John Doe <johndoe@example.com>, \n",
    "Peter Benjamin Parker <peterparker@example.com>, \n",
    "Mary Jane Watson-Parker <marywatsonpa@example.com>, \n",
    "John Elvis Doe <johndoe2@example.com>, \n",
    "John Evan Doe <johndoe3@example.com>, \n",
    "Jane Doe <janedoe@example.com>, \n",
    "Peter Brian Parker <peterparker2@example.com>"
   ]
  },
  {
   "cell_type": "code",
   "execution_count": null,
   "metadata": {},
   "outputs": [],
   "source": []
  }
 ],
 "metadata": {
  "kernelspec": {
   "display_name": "Python 3",
   "language": "python",
   "name": "python3"
  },
  "language_info": {
   "codemirror_mode": {
    "name": "ipython",
    "version": 3
   },
   "file_extension": ".py",
   "mimetype": "text/x-python",
   "name": "python",
   "nbconvert_exporter": "python",
   "pygments_lexer": "ipython3",
   "version": "3.6.1"
  }
 },
 "nbformat": 4,
 "nbformat_minor": 2
}
