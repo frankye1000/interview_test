{
 "cells": [
  {
   "cell_type": "markdown",
   "metadata": {},
   "source": [
    "<img src=\"2.0.jpg\" style=\"width:600px;height:600px;float:left\">"
   ]
  },
  {
   "cell_type": "code",
   "execution_count": null,
   "metadata": {},
   "outputs": [],
   "source": [
    "## Set的intersection用法\n",
    "Lst1 = [1, 2, 3]\n",
    "Lst2 = [4, 3]\n",
    " \n",
    "s1 = set(Lst1)\n",
    "s2 = set(Lst2)\n",
    "print (list(s1.intersection(s2)))\n",
    "print (list(s1.intersection(s2))) #將set 轉回 list"
   ]
  },
  {
   "cell_type": "code",
   "execution_count": null,
   "metadata": {},
   "outputs": [],
   "source": []
  },
  {
   "cell_type": "code",
   "execution_count": null,
   "metadata": {},
   "outputs": [],
   "source": []
  },
  {
   "cell_type": "code",
   "execution_count": 58,
   "metadata": {},
   "outputs": [],
   "source": [
    "A=[6,1,4,6,3,2,7,4]\n",
    "K=3\n",
    "L=2\n",
    "##如果樹的數量 小於它們想摘的數量 就回傳-1  K+L>len(A) return -1\n",
    "##len(A)+1-K 他總共可以摘幾次樹\n"
   ]
  },
  {
   "cell_type": "code",
   "execution_count": 59,
   "metadata": {
    "scrolled": true
   },
   "outputs": [
    {
     "name": "stdout",
     "output_type": "stream",
     "text": [
      "{0: 6}\n",
      "{0: 6, 1: 1}\n",
      "{0: 6, 1: 1, 2: 4}\n",
      "{1: 1}\n",
      "{1: 1, 2: 4}\n",
      "{1: 1, 2: 4, 3: 6}\n",
      "{2: 4}\n",
      "{2: 4, 3: 6}\n",
      "{2: 4, 3: 6, 4: 3}\n",
      "{3: 6}\n",
      "{3: 6, 4: 3}\n",
      "{3: 6, 4: 3, 5: 2}\n",
      "{4: 3}\n",
      "{4: 3, 5: 2}\n",
      "{4: 3, 5: 2, 6: 7}\n",
      "{5: 2}\n",
      "{5: 2, 6: 7}\n",
      "{5: 2, 6: 7, 7: 4}\n"
     ]
    }
   ],
   "source": [
    "c = len(A)+1-K #c=6\n",
    "Alice=[]\n",
    "\n",
    "for i in range(0,c):\n",
    "    n={}\n",
    "    for j in range(0,K):\n",
    "        n[i+j] = A[i+j]\n",
    "        print(n)\n",
    "    Alice.append(n)\n",
    "\n",
    "d = len(A)+1-L #d=7\n",
    "Bob=[]\n",
    "for i in range(0,d):\n",
    "    m={}\n",
    "    for j in range(0,L):\n",
    "        m[i+j] = A[i+j]\n",
    "    Bob.append(m)"
   ]
  },
  {
   "cell_type": "code",
   "execution_count": 60,
   "metadata": {},
   "outputs": [
    {
     "data": {
      "text/plain": [
       "[{0: 6, 1: 1, 2: 4},\n",
       " {1: 1, 2: 4, 3: 6},\n",
       " {2: 4, 3: 6, 4: 3},\n",
       " {3: 6, 4: 3, 5: 2},\n",
       " {4: 3, 5: 2, 6: 7},\n",
       " {5: 2, 6: 7, 7: 4}]"
      ]
     },
     "execution_count": 60,
     "metadata": {},
     "output_type": "execute_result"
    }
   ],
   "source": [
    "Alice"
   ]
  },
  {
   "cell_type": "code",
   "execution_count": 61,
   "metadata": {},
   "outputs": [
    {
     "data": {
      "text/plain": [
       "[{0: 6, 1: 1},\n",
       " {1: 1, 2: 4},\n",
       " {2: 4, 3: 6},\n",
       " {3: 6, 4: 3},\n",
       " {4: 3, 5: 2},\n",
       " {5: 2, 6: 7},\n",
       " {6: 7, 7: 4}]"
      ]
     },
     "execution_count": 61,
     "metadata": {},
     "output_type": "execute_result"
    }
   ],
   "source": [
    "Bob"
   ]
  },
  {
   "cell_type": "code",
   "execution_count": 62,
   "metadata": {
    "scrolled": true
   },
   "outputs": [
    {
     "data": {
      "text/plain": [
       "{0, 1, 2}"
      ]
     },
     "execution_count": 62,
     "metadata": {},
     "output_type": "execute_result"
    }
   ],
   "source": [
    "s1 = set(Alice[0].keys())\n",
    "s1"
   ]
  },
  {
   "cell_type": "code",
   "execution_count": 63,
   "metadata": {
    "scrolled": false
   },
   "outputs": [
    {
     "data": {
      "text/plain": [
       "{0, 1}"
      ]
     },
     "execution_count": 63,
     "metadata": {},
     "output_type": "execute_result"
    }
   ],
   "source": [
    "s2 = set(Bob[0].keys())\n",
    "s2"
   ]
  },
  {
   "cell_type": "code",
   "execution_count": 64,
   "metadata": {},
   "outputs": [
    {
     "data": {
      "text/plain": [
       "2"
      ]
     },
     "execution_count": 64,
     "metadata": {},
     "output_type": "execute_result"
    }
   ],
   "source": [
    "len(s1.intersection(s2))"
   ]
  },
  {
   "cell_type": "code",
   "execution_count": 65,
   "metadata": {},
   "outputs": [
    {
     "data": {
      "text/plain": [
       "24"
      ]
     },
     "execution_count": 65,
     "metadata": {},
     "output_type": "execute_result"
    }
   ],
   "source": [
    "total=[]\n",
    "for i in Alice:\n",
    "    for j in Bob :\n",
    "        si = set(i.keys())\n",
    "        sj = set(j.keys())\n",
    "        if len(si.intersection(sj))==0:\n",
    "            t = sum(list(i.values()))+sum(list(j.values()))\n",
    "            total.append(t)\n",
    "max(total)"
   ]
  },
  {
   "cell_type": "markdown",
   "metadata": {},
   "source": [
    "## answer ↓"
   ]
  },
  {
   "cell_type": "code",
   "execution_count": 8,
   "metadata": {},
   "outputs": [],
   "source": [
    "def solution(A,K,L):\n",
    "    if K+L > len(A):\n",
    "        return -1\n",
    "    else:\n",
    "        c = len(A)+1-K \n",
    "        Alice=[]\n",
    "        for i in range(0,c):\n",
    "            n={}\n",
    "            for j in range(0,K):\n",
    "                n[i+j] = A[i+j]\n",
    "            Alice.append(n)\n",
    "        d = len(A)+1-L \n",
    "\n",
    "        Bob=[]\n",
    "        for i in range(0,d):\n",
    "            m={}\n",
    "            for j in range(0,L):\n",
    "                m[i+j] = A[i+j]\n",
    "            Bob.append(m)\n",
    "\n",
    "        total=[]\n",
    "        for i in Alice:\n",
    "            for j in Bob :\n",
    "                si = set(i.keys())\n",
    "                sj = set(j.keys())\n",
    "                if len(si.intersection(sj))==0:\n",
    "                    t = sum(list(i.values()))+sum(list(j.values()))\n",
    "                    total.append(t)\n",
    "        return max(total)\n",
    "    "
   ]
  },
  {
   "cell_type": "code",
   "execution_count": 9,
   "metadata": {},
   "outputs": [
    {
     "data": {
      "text/plain": [
       "-1"
      ]
     },
     "execution_count": 9,
     "metadata": {},
     "output_type": "execute_result"
    }
   ],
   "source": [
    "A=[4,6,3,2]\n",
    "K=3\n",
    "L=2\n",
    "solution(A,K,L)"
   ]
  },
  {
   "cell_type": "code",
   "execution_count": null,
   "metadata": {},
   "outputs": [],
   "source": []
  },
  {
   "cell_type": "code",
   "execution_count": null,
   "metadata": {},
   "outputs": [],
   "source": []
  },
  {
   "cell_type": "code",
   "execution_count": null,
   "metadata": {},
   "outputs": [],
   "source": []
  },
  {
   "cell_type": "code",
   "execution_count": null,
   "metadata": {},
   "outputs": [],
   "source": []
  },
  {
   "cell_type": "code",
   "execution_count": null,
   "metadata": {},
   "outputs": [],
   "source": []
  }
 ],
 "metadata": {
  "kernelspec": {
   "display_name": "Python 3",
   "language": "python",
   "name": "python3"
  },
  "language_info": {
   "codemirror_mode": {
    "name": "ipython",
    "version": 3
   },
   "file_extension": ".py",
   "mimetype": "text/x-python",
   "name": "python",
   "nbconvert_exporter": "python",
   "pygments_lexer": "ipython3",
   "version": "3.6.1"
  }
 },
 "nbformat": 4,
 "nbformat_minor": 2
}
