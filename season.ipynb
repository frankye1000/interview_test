{
 "cells": [
  {
   "cell_type": "code",
   "execution_count": 159,
   "metadata": {},
   "outputs": [],
   "source": [
    "T=[-3, -14, -5, 7, 8, 42, 8, 3]\n",
    "winter_t = []\n",
    "spring_t = []\n",
    "summer_t = []\n",
    "autumn_t = []\n",
    "\n",
    "for i in range(0,int(len(T)/4)):\n",
    "    winter_dict={}\n",
    "    winter_dict[\"winter\"] = T[i]\n",
    "    winter_t.append(winter_dict)\n",
    "for i in range(int(len(T)/4),2*int(len(T)/4)):\n",
    "    spring_dict={}\n",
    "    spring_dict[\"spring\"] = T[i]\n",
    "    spring_t.append(spring_dict)\n",
    "for i in range(2*int(len(T)/4), 3*int(len(T)/4)):\n",
    "    summer_dict={}\n",
    "    summer_dict[\"summer\"] = T[i]\n",
    "    summer_t.append(summer_dict)\n",
    "for i in range(3*int(len(T)/4),4*int(len(T)/4)):\n",
    "    autumn_dict={}\n",
    "    autumn_dict[\"autumn\"] = T[i]\n",
    "    autumn_t.append(autumn_dict)"
   ]
  },
  {
   "cell_type": "code",
   "execution_count": 164,
   "metadata": {},
   "outputs": [],
   "source": [
    "season = [winter_t,spring_t, summer_t,autumn_t]\n",
    "\n",
    "amp = []\n",
    "for s in season:\n",
    "    for i in s:\n",
    "        for j in s:\n",
    "            d = (list(i.keys())[0] ,  list(i.values())[0] - list(j.values())[0] )\n",
    "            amp.append(d)\n"
   ]
  },
  {
   "cell_type": "code",
   "execution_count": 165,
   "metadata": {},
   "outputs": [],
   "source": [
    "ampp = []\n",
    "for i in amp:\n",
    "    ampp.append(i[1])"
   ]
  },
  {
   "cell_type": "code",
   "execution_count": 166,
   "metadata": {},
   "outputs": [
    {
     "data": {
      "text/plain": [
       "34"
      ]
     },
     "execution_count": 166,
     "metadata": {},
     "output_type": "execute_result"
    }
   ],
   "source": [
    "max(set(ampp))"
   ]
  },
  {
   "cell_type": "code",
   "execution_count": 167,
   "metadata": {},
   "outputs": [
    {
     "name": "stdout",
     "output_type": "stream",
     "text": [
      "summer\n"
     ]
    }
   ],
   "source": [
    "for a in amp:\n",
    "    if a[1]==max(set(ampp)):\n",
    "        print(a[0])"
   ]
  },
  {
   "cell_type": "code",
   "execution_count": 169,
   "metadata": {},
   "outputs": [],
   "source": [
    "def solution(T):\n",
    "    winter_t = []\n",
    "    spring_t = []\n",
    "    summer_t = []\n",
    "    autumn_t = []\n",
    "    \n",
    "    for i in range(0,int(len(T)/4)):\n",
    "        winter_dict={}\n",
    "        winter_dict[\"winter\"] = T[i]\n",
    "        winter_t.append(winter_dict)\n",
    "    for i in range(int(len(T)/4),2*int(len(T)/4)):\n",
    "        spring_dict={}\n",
    "        spring_dict[\"spring\"] = T[i]\n",
    "        spring_t.append(spring_dict)\n",
    "    for i in range(2*int(len(T)/4), 3*int(len(T)/4)):\n",
    "        summer_dict={}\n",
    "        summer_dict[\"summer\"] = T[i]\n",
    "        summer_t.append(summer_dict)\n",
    "    for i in range(3*int(len(T)/4),4*int(len(T)/4)):\n",
    "        autumn_dict={}\n",
    "        autumn_dict[\"autumn\"] = T[i]\n",
    "        autumn_t.append(autumn_dict)\n",
    "    season = [winter_t,spring_t, summer_t,autumn_t]\n",
    "    \n",
    "    amp = []\n",
    "    for s in season:\n",
    "        for i in s:\n",
    "            for j in s:\n",
    "                d = (list(i.keys())[0] ,  list(i.values())[0] - list(j.values())[0] )\n",
    "                amp.append(d)\n",
    "    \n",
    "    ampp = []\n",
    "    for i in amp:\n",
    "        ampp.append(i[1])\n",
    "        \n",
    "    for a in amp:\n",
    "        if a[1]==max(set(ampp)):\n",
    "            return a[0]"
   ]
  },
  {
   "cell_type": "code",
   "execution_count": 170,
   "metadata": {},
   "outputs": [
    {
     "data": {
      "text/plain": [
       "'summer'"
      ]
     },
     "execution_count": 170,
     "metadata": {},
     "output_type": "execute_result"
    }
   ],
   "source": [
    "T=[-3, -14, -5, 7, 8, 42, 8, 3]\n",
    "solution(T)"
   ]
  },
  {
   "cell_type": "code",
   "execution_count": null,
   "metadata": {},
   "outputs": [],
   "source": []
  }
 ],
 "metadata": {
  "kernelspec": {
   "display_name": "Python 3",
   "language": "python",
   "name": "python3"
  },
  "language_info": {
   "codemirror_mode": {
    "name": "ipython",
    "version": 3
   },
   "file_extension": ".py",
   "mimetype": "text/x-python",
   "name": "python",
   "nbconvert_exporter": "python",
   "pygments_lexer": "ipython3",
   "version": "3.6.1"
  }
 },
 "nbformat": 4,
 "nbformat_minor": 2
}
